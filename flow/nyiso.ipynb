{
 "cells": [
  {
   "cell_type": "code",
   "execution_count": 65,
   "metadata": {},
   "outputs": [],
   "source": [
    "import pandas as pd\n",
    "import numpy as np"
   ]
  },
  {
   "cell_type": "code",
   "execution_count": 66,
   "metadata": {},
   "outputs": [],
   "source": [
    "# read NYISO generator info\n",
    "\n",
    "file_name = '/Users/jinningwang/Documents/work/lmpdata/data/price/npcc_nyiso/generator.csv'\n",
    "gen_data = pd.read_csv(file_name)\n",
    "\n",
    "# read NPCC case info\n",
    "\n",
    "case_name = '/Users/jinningwang/Documents/work/lmpdata/data/case/npcc.xlsx'\n",
    "npcc_data = pd.read_excel(io = case_name, sheet_name = 1, header = 0)"
   ]
  },
  {
   "cell_type": "code",
   "execution_count": 67,
   "metadata": {
    "scrolled": true
   },
   "outputs": [
    {
     "name": "stdout",
     "output_type": "stream",
     "text": [
      "733\n"
     ]
    },
    {
     "data": {
      "text/html": [
       "<div>\n",
       "<style scoped>\n",
       "    .dataframe tbody tr th:only-of-type {\n",
       "        vertical-align: middle;\n",
       "    }\n",
       "\n",
       "    .dataframe tbody tr th {\n",
       "        vertical-align: top;\n",
       "    }\n",
       "\n",
       "    .dataframe thead th {\n",
       "        text-align: right;\n",
       "    }\n",
       "</style>\n",
       "<table border=\"1\" class=\"dataframe\">\n",
       "  <thead>\n",
       "    <tr style=\"text-align: right;\">\n",
       "      <th></th>\n",
       "      <th>Generator Name</th>\n",
       "      <th>PTID</th>\n",
       "      <th>Subzone</th>\n",
       "      <th>Zone</th>\n",
       "      <th>Latitude</th>\n",
       "      <th>Longitude</th>\n",
       "    </tr>\n",
       "  </thead>\n",
       "  <tbody>\n",
       "    <tr>\n",
       "      <th>0</th>\n",
       "      <td>59TH STREET_GT_1</td>\n",
       "      <td>24138</td>\n",
       "      <td>CON ED NY CITY</td>\n",
       "      <td>N.Y.C.</td>\n",
       "      <td>40.766120</td>\n",
       "      <td>-73.996110</td>\n",
       "    </tr>\n",
       "    <tr>\n",
       "      <th>1</th>\n",
       "      <td>74TH STREET_GT_1</td>\n",
       "      <td>24260</td>\n",
       "      <td>CON ED NY CITY</td>\n",
       "      <td>N.Y.C.</td>\n",
       "      <td>40.763619</td>\n",
       "      <td>-73.943008</td>\n",
       "    </tr>\n",
       "    <tr>\n",
       "      <th>2</th>\n",
       "      <td>74TH STREET_GT_2</td>\n",
       "      <td>24261</td>\n",
       "      <td>CON ED NY CITY</td>\n",
       "      <td>N.Y.C.</td>\n",
       "      <td>40.763619</td>\n",
       "      <td>-73.943008</td>\n",
       "    </tr>\n",
       "    <tr>\n",
       "      <th>3</th>\n",
       "      <td>ADK HUDSON___FALLS</td>\n",
       "      <td>24011</td>\n",
       "      <td>NMPC CAPITAL</td>\n",
       "      <td>CAPITL</td>\n",
       "      <td>43.290067</td>\n",
       "      <td>-73.606067</td>\n",
       "    </tr>\n",
       "    <tr>\n",
       "      <th>4</th>\n",
       "      <td>ADK RESOURCE___RCVRY</td>\n",
       "      <td>23798</td>\n",
       "      <td>NMPC CAPITAL</td>\n",
       "      <td>CAPITL</td>\n",
       "      <td>43.306154</td>\n",
       "      <td>-73.591954</td>\n",
       "    </tr>\n",
       "  </tbody>\n",
       "</table>\n",
       "</div>"
      ],
      "text/plain": [
       "         Generator Name   PTID         Subzone    Zone   Latitude  Longitude\n",
       "0      59TH STREET_GT_1  24138  CON ED NY CITY  N.Y.C.  40.766120 -73.996110\n",
       "1      74TH STREET_GT_1  24260  CON ED NY CITY  N.Y.C.  40.763619 -73.943008\n",
       "2      74TH STREET_GT_2  24261  CON ED NY CITY  N.Y.C.  40.763619 -73.943008\n",
       "3    ADK HUDSON___FALLS  24011    NMPC CAPITAL  CAPITL  43.290067 -73.606067\n",
       "4  ADK RESOURCE___RCVRY  23798    NMPC CAPITAL  CAPITL  43.306154 -73.591954"
      ]
     },
     "execution_count": 67,
     "metadata": {},
     "output_type": "execute_result"
    }
   ],
   "source": [
    "print(gen_data.shape[0])\n",
    "gen_data.head()"
   ]
  },
  {
   "cell_type": "code",
   "execution_count": 68,
   "metadata": {},
   "outputs": [
    {
     "name": "stdout",
     "output_type": "stream",
     "text": [
      "140\n"
     ]
    },
    {
     "data": {
      "text/html": [
       "<div>\n",
       "<style scoped>\n",
       "    .dataframe tbody tr th:only-of-type {\n",
       "        vertical-align: middle;\n",
       "    }\n",
       "\n",
       "    .dataframe tbody tr th {\n",
       "        vertical-align: top;\n",
       "    }\n",
       "\n",
       "    .dataframe thead th {\n",
       "        text-align: right;\n",
       "    }\n",
       "</style>\n",
       "<table border=\"1\" class=\"dataframe\">\n",
       "  <thead>\n",
       "    <tr style=\"text-align: right;\">\n",
       "      <th></th>\n",
       "      <th>uid</th>\n",
       "      <th>idx</th>\n",
       "      <th>u</th>\n",
       "      <th>name</th>\n",
       "      <th>Vn</th>\n",
       "      <th>vmax</th>\n",
       "      <th>vmin</th>\n",
       "      <th>v0</th>\n",
       "      <th>a0</th>\n",
       "      <th>xcoord</th>\n",
       "      <th>ycoord</th>\n",
       "      <th>area</th>\n",
       "      <th>zone</th>\n",
       "      <th>owner</th>\n",
       "    </tr>\n",
       "  </thead>\n",
       "  <tbody>\n",
       "    <tr>\n",
       "      <th>0</th>\n",
       "      <td>0</td>\n",
       "      <td>1</td>\n",
       "      <td>1</td>\n",
       "      <td>MILLSTONE PT</td>\n",
       "      <td>345.0</td>\n",
       "      <td>1.1</td>\n",
       "      <td>0.9</td>\n",
       "      <td>1.01517</td>\n",
       "      <td>0.084533</td>\n",
       "      <td>-72.165386</td>\n",
       "      <td>41.314961</td>\n",
       "      <td>1</td>\n",
       "      <td>1</td>\n",
       "      <td>1</td>\n",
       "    </tr>\n",
       "    <tr>\n",
       "      <th>1</th>\n",
       "      <td>1</td>\n",
       "      <td>2</td>\n",
       "      <td>1</td>\n",
       "      <td>MONTVILLE</td>\n",
       "      <td>345.0</td>\n",
       "      <td>1.1</td>\n",
       "      <td>0.9</td>\n",
       "      <td>1.01090</td>\n",
       "      <td>0.070801</td>\n",
       "      <td>-72.103714</td>\n",
       "      <td>41.428814</td>\n",
       "      <td>1</td>\n",
       "      <td>1</td>\n",
       "      <td>1</td>\n",
       "    </tr>\n",
       "    <tr>\n",
       "      <th>2</th>\n",
       "      <td>2</td>\n",
       "      <td>3</td>\n",
       "      <td>1</td>\n",
       "      <td>MONTVILLE</td>\n",
       "      <td>115.0</td>\n",
       "      <td>1.1</td>\n",
       "      <td>0.9</td>\n",
       "      <td>0.99170</td>\n",
       "      <td>0.069934</td>\n",
       "      <td>-72.103714</td>\n",
       "      <td>41.428814</td>\n",
       "      <td>1</td>\n",
       "      <td>1</td>\n",
       "      <td>1</td>\n",
       "    </tr>\n",
       "    <tr>\n",
       "      <th>3</th>\n",
       "      <td>3</td>\n",
       "      <td>4</td>\n",
       "      <td>1</td>\n",
       "      <td>MONTVILLE</td>\n",
       "      <td>345.0</td>\n",
       "      <td>1.1</td>\n",
       "      <td>0.9</td>\n",
       "      <td>1.01125</td>\n",
       "      <td>0.071567</td>\n",
       "      <td>-72.103714</td>\n",
       "      <td>41.428814</td>\n",
       "      <td>1</td>\n",
       "      <td>1</td>\n",
       "      <td>1</td>\n",
       "    </tr>\n",
       "    <tr>\n",
       "      <th>4</th>\n",
       "      <td>4</td>\n",
       "      <td>5</td>\n",
       "      <td>1</td>\n",
       "      <td>CARD ST</td>\n",
       "      <td>345.0</td>\n",
       "      <td>1.1</td>\n",
       "      <td>0.9</td>\n",
       "      <td>1.00618</td>\n",
       "      <td>0.041062</td>\n",
       "      <td>-72.234276</td>\n",
       "      <td>41.702294</td>\n",
       "      <td>1</td>\n",
       "      <td>1</td>\n",
       "      <td>1</td>\n",
       "    </tr>\n",
       "  </tbody>\n",
       "</table>\n",
       "</div>"
      ],
      "text/plain": [
       "   uid  idx  u          name     Vn  vmax  vmin       v0        a0     xcoord  \\\n",
       "0    0    1  1  MILLSTONE PT  345.0   1.1   0.9  1.01517  0.084533 -72.165386   \n",
       "1    1    2  1     MONTVILLE  345.0   1.1   0.9  1.01090  0.070801 -72.103714   \n",
       "2    2    3  1     MONTVILLE  115.0   1.1   0.9  0.99170  0.069934 -72.103714   \n",
       "3    3    4  1     MONTVILLE  345.0   1.1   0.9  1.01125  0.071567 -72.103714   \n",
       "4    4    5  1       CARD ST  345.0   1.1   0.9  1.00618  0.041062 -72.234276   \n",
       "\n",
       "      ycoord  area  zone  owner  \n",
       "0  41.314961     1     1      1  \n",
       "1  41.428814     1     1      1  \n",
       "2  41.428814     1     1      1  \n",
       "3  41.428814     1     1      1  \n",
       "4  41.702294     1     1      1  "
      ]
     },
     "execution_count": 68,
     "metadata": {},
     "output_type": "execute_result"
    }
   ],
   "source": [
    "print(npcc_data.shape[0])\n",
    "npcc_data.head()"
   ]
  },
  {
   "cell_type": "code",
   "execution_count": 69,
   "metadata": {
    "scrolled": false
   },
   "outputs": [],
   "source": [
    "# calc the distance between NYISO and NPCC\n",
    "\n",
    "cls_gen = []\n",
    "for no_npcc in range(npcc_data.shape[0]):\n",
    "    cdist = []\n",
    "    for no_nyiso in range(gen_data.shape[0]):\n",
    "        d = np.sqrt((npcc_data[\"xcoord\"].iloc[no_npcc] - gen_data[\"Longitude\"].iloc[no_nyiso])**2 + (npcc_data[\"ycoord\"].iloc[no_npcc] - gen_data[\"Latitude\"].iloc[no_nyiso])**2)\n",
    "        cdist.append(d)\n",
    "    if min(cdist) <= 1:  # if the shortest distance > 1, nullify it\n",
    "        loc = cdist.index(min(cdist))\n",
    "        cls_gen.append(gen_data[\"Generator Name\"].iloc[loc])\n",
    "    else:\n",
    "        cls_gen.append(\"\")"
   ]
  },
  {
   "cell_type": "code",
   "execution_count": 70,
   "metadata": {},
   "outputs": [
    {
     "name": "stdout",
     "output_type": "stream",
     "text": [
      "['', '59TH STREET_GT_1', 'ADK_NYS___DAM', 'AIR_PRODUCTS___DRP', 'ALBANY___LFGE', 'ALCOA_RYNLDS___DRP', 'ATHENS_STG_1', 'BEACON___LESR', 'BETHLEHEM___STEEL', 'BINGHAMTON___COGEN', 'BLUE_CIRC_CHEM_DRP', 'BOC_GAS_DRP', 'CE_MILLWOOD___DRP', 'DUNKIRK___1', 'EAST_HAMPTON___DIESEL', 'FALCON___SEABRD_CC1', 'FENNER___WINDPWR', 'GILBOA___1', 'GLOBAL GREEN_PORT_GT1', 'GLOBE___DSASP', 'GOETHSLN___LBMP', 'GOUDEY___7', 'GREENIDGE___3', 'HICKLING___1', 'HUNTLEY___63', 'INDIAN POINT___2', 'JARVIS____', 'LINDEN COGEN____', 'LOWER RAQUET___HYD', 'MARSH_HILL_WT_PWR', 'NEG WEST___LANCASTR', 'NEPA___ENERGY', 'NM_CENTRAL___DRP', 'NM_ST_REGIS___HYD', 'NORTHPORT___1', 'NYISO_LBMP_REFERENCE', 'PLEASANTVLY___LBMP', 'PPL_SHRM_GT3', 'RAMAPO___LBMP', 'RUSSELL___1']\n"
     ]
    }
   ],
   "source": [
    "print(sorted(set(cls_gen)))"
   ]
  },
  {
   "cell_type": "code",
   "execution_count": 71,
   "metadata": {},
   "outputs": [
    {
     "data": {
      "text/plain": [
       "58"
      ]
     },
     "execution_count": 71,
     "metadata": {},
     "output_type": "execute_result"
    }
   ],
   "source": [
    "# remaining 58 bus not found\n",
    "\n",
    "npcc_data[\"cls_gen\"] = cls_gen\n",
    "npcc_data[npcc_data[\"cls_gen\"] == \"\"].shape[0]"
   ]
  },
  {
   "cell_type": "code",
   "execution_count": 72,
   "metadata": {},
   "outputs": [
    {
     "data": {
      "text/plain": [
       "5        SHERMAN RD\n",
       "6            MEDWAY\n",
       "7          MILLBURY\n",
       "8      CARPENTER HL\n",
       "9        BRAYTON PT\n",
       "10       BRAYTON PT\n",
       "11      BRIDGEWATER\n",
       "12          PILGRIM\n",
       "13            CANAL\n",
       "14          WALPOLA\n",
       "16           SCOBIE\n",
       "17       SANDY POND\n",
       "18           POWNAL\n",
       "19     MAINE YANKEE\n",
       "21       BRAYTON PT\n",
       "22       BRAYTON PT\n",
       "23          PILGRIM\n",
       "24            CANAL\n",
       "25     MAINE YANKEE\n",
       "44           PORTER\n",
       "82            KEITH\n",
       "83        KEITH JCT\n",
       "84          LAMBTON\n",
       "85          LAMBTON\n",
       "86          LAMBTON\n",
       "87            SCOTT\n",
       "88            SCOTT\n",
       "89             VIDA\n",
       "91           HANMER\n",
       "92             ESSA\n",
       "93      ORANGEVILLE\n",
       "94         DES JOAC\n",
       "95           HOLDEN\n",
       "96       MARTINDELE\n",
       "108             SLT\n",
       "110       DETWIERER\n",
       "111         CHATHAM\n",
       "112          LAUZON\n",
       "113      MARYSVILLE\n",
       "114        ST CLAIR\n",
       "115        WATERMAN\n",
       "116         PONTIAC\n",
       "117           WAYNE\n",
       "118        THETFORD\n",
       "119         ARGENTA\n",
       "120           SC415\n",
       "121        WATERMAN\n",
       "122          MONROE\n",
       "126        ALBURTIS\n",
       "127        WHITPAIN\n",
       "128          KEENEY\n",
       "129    PEACH BOTTOM\n",
       "130       CONASTONE\n",
       "131         JUNIATA\n",
       "132       CONEMAUGH\n",
       "133      HOMER CITY\n",
       "134        KEYSTONE\n",
       "138           KYGER\n",
       "Name: name, dtype: object"
      ]
     },
     "execution_count": 72,
     "metadata": {},
     "output_type": "execute_result"
    }
   ],
   "source": [
    "# remaining bus\n",
    "\n",
    "npcc_data[\"name\"][npcc_data[\"cls_gen\"] == \"\"]"
   ]
  }
 ],
 "metadata": {
  "interpreter": {
   "hash": "b8c542af61804583455bb3cc02c5acff1b7eab71b36b048085e6e502c5a0f30d"
  },
  "kernelspec": {
   "display_name": "Python 3.8.10 64-bit ('base': conda)",
   "language": "python",
   "name": "python3810jvsc74a57bd04bdb5f9db7a4c6ddf0fdf2429db6db5a19057fe786d8aaba1c4247dfe2c38706"
  },
  "language_info": {
   "codemirror_mode": {
    "name": "ipython",
    "version": 3
   },
   "file_extension": ".py",
   "mimetype": "text/x-python",
   "name": "python",
   "nbconvert_exporter": "python",
   "pygments_lexer": "ipython3",
   "version": "3.8.12"
  }
 },
 "nbformat": 4,
 "nbformat_minor": 2
}
